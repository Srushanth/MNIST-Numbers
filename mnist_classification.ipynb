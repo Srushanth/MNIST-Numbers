{
 "cells": [
  {
   "cell_type": "markdown",
   "metadata": {},
   "source": [
    "1. Load a prebuilt dataset.\n",
    "2. Build a neural network machine learning model that classifies images.\n",
    "3. Train this neural network.\n",
    "4. Evaluate the accuracy of the model."
   ]
  },
  {
   "cell_type": "markdown",
   "metadata": {},
   "source": [
    "# Set up TensorFlow"
   ]
  },
  {
   "cell_type": "code",
   "execution_count": 1,
   "metadata": {},
   "outputs": [],
   "source": [
    "import tensorflow as tf\n",
    "import matplotlib.pylab as plt"
   ]
  },
  {
   "cell_type": "code",
   "execution_count": 2,
   "metadata": {},
   "outputs": [
    {
     "data": {
      "text/plain": [
       "'2.7.0'"
      ]
     },
     "execution_count": 2,
     "metadata": {},
     "output_type": "execute_result"
    }
   ],
   "source": [
    "tf.__version__"
   ]
  },
  {
   "cell_type": "markdown",
   "metadata": {},
   "source": [
    "# Load Data"
   ]
  },
  {
   "cell_type": "code",
   "execution_count": 3,
   "metadata": {},
   "outputs": [],
   "source": [
    "mnist = tf.keras.datasets.mnist"
   ]
  },
  {
   "cell_type": "code",
   "execution_count": 4,
   "metadata": {},
   "outputs": [
    {
     "data": {
      "text/plain": [
       "module"
      ]
     },
     "execution_count": 4,
     "metadata": {},
     "output_type": "execute_result"
    }
   ],
   "source": [
    "type(mnist)"
   ]
  },
  {
   "cell_type": "code",
   "execution_count": 5,
   "metadata": {},
   "outputs": [
    {
     "data": {
      "text/plain": [
       "<module 'keras.api._v2.keras.datasets.mnist' from 'C:\\\\ProgramData\\\\Anaconda3\\\\lib\\\\site-packages\\\\keras\\\\api\\\\_v2\\\\keras\\\\datasets\\\\mnist\\\\__init__.py'>"
      ]
     },
     "execution_count": 5,
     "metadata": {},
     "output_type": "execute_result"
    }
   ],
   "source": [
    "mnist"
   ]
  },
  {
   "cell_type": "code",
   "execution_count": 6,
   "metadata": {},
   "outputs": [],
   "source": [
    "(x_train, y_train), (x_test, y_test) = mnist.load_data()"
   ]
  },
  {
   "cell_type": "code",
   "execution_count": 7,
   "metadata": {},
   "outputs": [],
   "source": [
    "x_train, x_test = x_train/255.0, x_test/255.0"
   ]
  },
  {
   "cell_type": "code",
   "execution_count": 8,
   "metadata": {},
   "outputs": [
    {
     "data": {
      "text/plain": [
       "(60000, 28, 28)"
      ]
     },
     "execution_count": 8,
     "metadata": {},
     "output_type": "execute_result"
    }
   ],
   "source": [
    "x_train.shape"
   ]
  },
  {
   "cell_type": "code",
   "execution_count": 9,
   "metadata": {},
   "outputs": [
    {
     "data": {
      "text/plain": [
       "(60000,)"
      ]
     },
     "execution_count": 9,
     "metadata": {},
     "output_type": "execute_result"
    }
   ],
   "source": [
    "y_train.shape"
   ]
  },
  {
   "cell_type": "code",
   "execution_count": 10,
   "metadata": {},
   "outputs": [
    {
     "data": {
      "image/png": "[encoded data removed]",
      "text/plain": [
       "<Figure size 720x720 with 25 Axes>"
      ]
     },
     "metadata": {},
     "output_type": "display_data"
    }
   ],
   "source": [
    "plt.figure(figsize=(10, 10))\n",
    "for i in range(25):\n",
    "    plt.subplot(5,5,i+1)\n",
    "    plt.xticks([])\n",
    "    plt.yticks([])\n",
    "    plt.grid(False)\n",
    "    plt.imshow(x_train[i], cmap=plt.cm.binary)\n",
    "    plt.xlabel(str(y_train[i]))\n",
    "plt.show()"
   ]
  },
  {
   "cell_type": "code",
   "execution_count": 11,
   "metadata": {},
   "outputs": [
    {
     "data": {
      "image/png": "[encoded data removed]",
      "text/plain": [
       "<Figure size 432x288 with 1 Axes>"
      ]
     },
     "metadata": {
      "needs_background": "light"
     },
     "output_type": "display_data"
    }
   ],
   "source": [
    "plt.imshow(x_train[0])\n",
    "plt.show()"
   ]
  },
  {
   "cell_type": "markdown",
   "metadata": {},
   "source": [
    "# Build the model"
   ]
  },
  {
   "cell_type": "code",
   "execution_count": 12,
   "metadata": {},
   "outputs": [],
   "source": [
    "model_1 = tf.keras.models.Sequential([\n",
    "    tf.keras.layers.Flatten(input_shape=(28, 28)),\n",
    "    tf.keras.layers.Dense(128, activation='relu'),\n",
    "    tf.keras.layers.Dropout(0.2),\n",
    "    tf.keras.layers.Dense(10)\n",
    "])"
   ]
  },
  {
   "cell_type": "code",
   "execution_count": 13,
   "metadata": {},
   "outputs": [],
   "source": [
    "model_2 = tf.keras.models.Sequential([\n",
    "    tf.keras.layers.Flatten(input_shape=(28, 28)),\n",
    "    tf.keras.layers.Dense(128, activation='relu'),\n",
    "    tf.keras.layers.Dropout(0.2),\n",
    "    tf.keras.layers.Dense(64, activation='relu'),\n",
    "    tf.keras.layers.Dropout(0.2),\n",
    "    tf.keras.layers.Dense(10)\n",
    "])"
   ]
  },
  {
   "cell_type": "code",
   "execution_count": 14,
   "metadata": {},
   "outputs": [],
   "source": [
    "model_3 = tf.keras.models.Sequential([\n",
    "    tf.keras.layers.Flatten(input_shape=(28, 28)),\n",
    "    tf.keras.layers.Dense(128, activation='relu'),\n",
    "    tf.keras.layers.Dropout(0.2),\n",
    "    tf.keras.layers.Dense(64, activation='relu'),\n",
    "    tf.keras.layers.Dropout(0.2),\n",
    "    tf.keras.layers.Dense(32, activation='relu'),\n",
    "    tf.keras.layers.Dropout(0.2),\n",
    "    tf.keras.layers.Dense(10)\n",
    "])"
   ]
  },
  {
   "cell_type": "code",
   "execution_count": 15,
   "metadata": {},
   "outputs": [],
   "source": [
    "model_1.compile(\n",
    "    optimizer = tf.optimizers.Adam(),\n",
    "    loss = tf.keras.losses.SparseCategoricalCrossentropy(from_logits=True),\n",
    "    metrics = ['accuracy']\n",
    ")"
   ]
  },
  {
   "cell_type": "code",
   "execution_count": 16,
   "metadata": {},
   "outputs": [],
   "source": [
    "model_2.compile(\n",
    "    optimizer = tf.optimizers.Adam(),\n",
    "    loss = tf.keras.losses.SparseCategoricalCrossentropy(from_logits=True),\n",
    "    metrics = ['accuracy']\n",
    ")"
   ]
  },
  {
   "cell_type": "code",
   "execution_count": 17,
   "metadata": {},
   "outputs": [],
   "source": [
    "model_3.compile(\n",
    "    optimizer = tf.optimizers.Adam(),\n",
    "    loss = tf.keras.losses.SparseCategoricalCrossentropy(from_logits=True),\n",
    "    metrics = ['accuracy']\n",
    ")"
   ]
  },
  {
   "cell_type": "code",
   "execution_count": 18,
   "metadata": {},
   "outputs": [
    {
     "name": "stdout",
     "output_type": "stream",
     "text": [
      "Epoch 1/20\n",
      "4800/4800 [==============================] - 5s 1ms/step - loss: 0.2788 - accuracy: 0.9184 - val_loss: 0.1328 - val_accuracy: 0.9616\n",
      "Epoch 2/20\n",
      "4800/4800 [==============================] - 5s 980us/step - loss: 0.1391 - accuracy: 0.9581 - val_loss: 0.1138 - val_accuracy: 0.9664\n",
      "Epoch 3/20\n",
      "4800/4800 [==============================] - 4s 909us/step - loss: 0.1048 - accuracy: 0.9678 - val_loss: 0.0886 - val_accuracy: 0.9741\n",
      "Epoch 4/20\n",
      "4800/4800 [==============================] - 4s 906us/step - loss: 0.0909 - accuracy: 0.9715 - val_loss: 0.0850 - val_accuracy: 0.9746\n",
      "Epoch 5/20\n",
      "4800/4800 [==============================] - 4s 925us/step - loss: 0.0767 - accuracy: 0.9757 - val_loss: 0.0947 - val_accuracy: 0.9713\n",
      "Epoch 6/20\n",
      "4800/4800 [==============================] - 5s 958us/step - loss: 0.0670 - accuracy: 0.9786 - val_loss: 0.0911 - val_accuracy: 0.9746\n",
      "Epoch 7/20\n",
      "4800/4800 [==============================] - 5s 946us/step - loss: 0.0616 - accuracy: 0.9805 - val_loss: 0.0919 - val_accuracy: 0.9753\n",
      "Epoch 8/20\n",
      "4800/4800 [==============================] - 4s 922us/step - loss: 0.0547 - accuracy: 0.9824 - val_loss: 0.0965 - val_accuracy: 0.9747\n",
      "Epoch 9/20\n",
      "4800/4800 [==============================] - 4s 889us/step - loss: 0.0516 - accuracy: 0.9834 - val_loss: 0.1008 - val_accuracy: 0.9764\n",
      "Epoch 10/20\n",
      "4800/4800 [==============================] - 4s 930us/step - loss: 0.0492 - accuracy: 0.9834 - val_loss: 0.1008 - val_accuracy: 0.9760\n",
      "Epoch 11/20\n",
      "4800/4800 [==============================] - 5s 938us/step - loss: 0.0472 - accuracy: 0.9841 - val_loss: 0.1094 - val_accuracy: 0.9759\n",
      "Epoch 12/20\n",
      "4800/4800 [==============================] - 5s 959us/step - loss: 0.0425 - accuracy: 0.9861 - val_loss: 0.1068 - val_accuracy: 0.9770\n",
      "Epoch 13/20\n",
      "4800/4800 [==============================] - 5s 944us/step - loss: 0.0422 - accuracy: 0.9860 - val_loss: 0.1082 - val_accuracy: 0.9771\n",
      "Epoch 14/20\n",
      "4800/4800 [==============================] - 5s 986us/step - loss: 0.0391 - accuracy: 0.9870 - val_loss: 0.1147 - val_accuracy: 0.9753\n",
      "Epoch 15/20\n",
      "4800/4800 [==============================] - 5s 969us/step - loss: 0.0395 - accuracy: 0.9868 - val_loss: 0.1196 - val_accuracy: 0.9746\n",
      "Epoch 16/20\n",
      "4800/4800 [==============================] - 5s 1ms/step - loss: 0.0373 - accuracy: 0.9875 - val_loss: 0.1167 - val_accuracy: 0.9758\n",
      "Epoch 17/20\n",
      "4800/4800 [==============================] - 5s 1ms/step - loss: 0.0366 - accuracy: 0.9878 - val_loss: 0.1191 - val_accuracy: 0.9771\n",
      "Epoch 18/20\n",
      "4800/4800 [==============================] - 6s 1ms/step - loss: 0.0358 - accuracy: 0.9881 - val_loss: 0.1194 - val_accuracy: 0.9773\n",
      "Epoch 19/20\n",
      "4800/4800 [==============================] - 5s 1ms/step - loss: 0.0324 - accuracy: 0.9893 - val_loss: 0.1232 - val_accuracy: 0.9747\n",
      "Epoch 20/20\n",
      "4800/4800 [==============================] - 5s 1ms/step - loss: 0.0327 - accuracy: 0.9890 - val_loss: 0.1319 - val_accuracy: 0.9778\n"
     ]
    }
   ],
   "source": [
    "_history_1 = model_1.fit(\n",
    "    x_train,\n",
    "    y_train,\n",
    "    epochs = 20,\n",
    "    verbose = 1,\n",
    "    batch_size=10,\n",
    "    validation_split = 0.2\n",
    ")"
   ]
  },
  {
   "cell_type": "code",
   "execution_count": 19,
   "metadata": {},
   "outputs": [
    {
     "name": "stdout",
     "output_type": "stream",
     "text": [
      "Epoch 1/20\n",
      "4800/4800 [==============================] - 6s 1ms/step - loss: 0.3235 - accuracy: 0.9038 - val_loss: 0.1300 - val_accuracy: 0.9605\n",
      "Epoch 2/20\n",
      "4800/4800 [==============================] - 5s 1ms/step - loss: 0.1704 - accuracy: 0.9489 - val_loss: 0.1138 - val_accuracy: 0.9655\n",
      "Epoch 3/20\n",
      "4800/4800 [==============================] - 5s 1ms/step - loss: 0.1358 - accuracy: 0.9604 - val_loss: 0.1038 - val_accuracy: 0.9718\n",
      "Epoch 4/20\n",
      "4800/4800 [==============================] - 5s 1ms/step - loss: 0.1164 - accuracy: 0.9659 - val_loss: 0.1113 - val_accuracy: 0.9697\n",
      "Epoch 5/20\n",
      "4800/4800 [==============================] - 5s 995us/step - loss: 0.1037 - accuracy: 0.9676 - val_loss: 0.0950 - val_accuracy: 0.9739\n",
      "Epoch 6/20\n",
      "4800/4800 [==============================] - 5s 1ms/step - loss: 0.0964 - accuracy: 0.9700 - val_loss: 0.0985 - val_accuracy: 0.9735\n",
      "Epoch 7/20\n",
      "4800/4800 [==============================] - 5s 1ms/step - loss: 0.0889 - accuracy: 0.9725 - val_loss: 0.1030 - val_accuracy: 0.9728\n",
      "Epoch 8/20\n",
      "4800/4800 [==============================] - 5s 1ms/step - loss: 0.0816 - accuracy: 0.9754 - val_loss: 0.0978 - val_accuracy: 0.9748\n",
      "Epoch 9/20\n",
      "4800/4800 [==============================] - 5s 1ms/step - loss: 0.0777 - accuracy: 0.9771 - val_loss: 0.1092 - val_accuracy: 0.9722\n",
      "Epoch 10/20\n",
      "4800/4800 [==============================] - 5s 1ms/step - loss: 0.0729 - accuracy: 0.9774 - val_loss: 0.0954 - val_accuracy: 0.9747\n",
      "Epoch 11/20\n",
      "4800/4800 [==============================] - 5s 1ms/step - loss: 0.0712 - accuracy: 0.9779 - val_loss: 0.1000 - val_accuracy: 0.9746\n",
      "Epoch 12/20\n",
      "4800/4800 [==============================] - 5s 1ms/step - loss: 0.0683 - accuracy: 0.9790 - val_loss: 0.1042 - val_accuracy: 0.9756\n",
      "Epoch 13/20\n",
      "4800/4800 [==============================] - 5s 1ms/step - loss: 0.0679 - accuracy: 0.9792 - val_loss: 0.1003 - val_accuracy: 0.9775\n",
      "Epoch 14/20\n",
      "4800/4800 [==============================] - 5s 1ms/step - loss: 0.0614 - accuracy: 0.9816 - val_loss: 0.1008 - val_accuracy: 0.9765\n",
      "Epoch 15/20\n",
      "4800/4800 [==============================] - 5s 1ms/step - loss: 0.0613 - accuracy: 0.9813 - val_loss: 0.1111 - val_accuracy: 0.9767\n",
      "Epoch 16/20\n",
      "4800/4800 [==============================] - 5s 1ms/step - loss: 0.0571 - accuracy: 0.9816 - val_loss: 0.1169 - val_accuracy: 0.9738\n",
      "Epoch 17/20\n",
      "4800/4800 [==============================] - 5s 1ms/step - loss: 0.0551 - accuracy: 0.9830 - val_loss: 0.1056 - val_accuracy: 0.9747\n",
      "Epoch 18/20\n",
      "4800/4800 [==============================] - 5s 981us/step - loss: 0.0557 - accuracy: 0.9827 - val_loss: 0.1194 - val_accuracy: 0.9761\n",
      "Epoch 19/20\n",
      "4800/4800 [==============================] - 5s 989us/step - loss: 0.0525 - accuracy: 0.9849 - val_loss: 0.1022 - val_accuracy: 0.9783\n",
      "Epoch 20/20\n",
      "4800/4800 [==============================] - 5s 986us/step - loss: 0.0556 - accuracy: 0.9835 - val_loss: 0.1226 - val_accuracy: 0.9746\n"
     ]
    }
   ],
   "source": [
    "_history_2 = model_2.fit(\n",
    "    x_train,\n",
    "    y_train,\n",
    "    epochs = 20,\n",
    "    verbose = 1,\n",
    "    batch_size=10,\n",
    "    validation_split = 0.2\n",
    ")"
   ]
  },
  {
   "cell_type": "code",
   "execution_count": 20,
   "metadata": {},
   "outputs": [
    {
     "name": "stdout",
     "output_type": "stream",
     "text": [
      "Epoch 1/20\n",
      "4800/4800 [==============================] - 5s 1ms/step - loss: 0.4252 - accuracy: 0.8754 - val_loss: 0.1705 - val_accuracy: 0.9529\n",
      "Epoch 2/20\n",
      "4800/4800 [==============================] - 5s 1ms/step - loss: 0.2082 - accuracy: 0.9421 - val_loss: 0.1342 - val_accuracy: 0.9623\n",
      "Epoch 3/20\n",
      "4800/4800 [==============================] - 5s 1ms/step - loss: 0.1699 - accuracy: 0.9540 - val_loss: 0.1212 - val_accuracy: 0.9664\n",
      "Epoch 4/20\n",
      "4800/4800 [==============================] - 5s 1ms/step - loss: 0.1466 - accuracy: 0.9595 - val_loss: 0.1075 - val_accuracy: 0.9712\n",
      "Epoch 5/20\n",
      "4800/4800 [==============================] - 5s 1ms/step - loss: 0.1256 - accuracy: 0.9647 - val_loss: 0.1072 - val_accuracy: 0.9718\n",
      "Epoch 6/20\n",
      "4800/4800 [==============================] - 5s 1ms/step - loss: 0.1203 - accuracy: 0.9670 - val_loss: 0.0943 - val_accuracy: 0.9747\n",
      "Epoch 7/20\n",
      "4800/4800 [==============================] - 5s 1ms/step - loss: 0.1113 - accuracy: 0.9692 - val_loss: 0.0992 - val_accuracy: 0.9731\n",
      "Epoch 8/20\n",
      "4800/4800 [==============================] - 5s 1ms/step - loss: 0.1015 - accuracy: 0.9721 - val_loss: 0.1063 - val_accuracy: 0.9726\n",
      "Epoch 9/20\n",
      "4800/4800 [==============================] - 5s 1ms/step - loss: 0.0991 - accuracy: 0.9720 - val_loss: 0.1021 - val_accuracy: 0.9741\n",
      "Epoch 10/20\n",
      "4800/4800 [==============================] - 5s 1ms/step - loss: 0.0906 - accuracy: 0.9745 - val_loss: 0.0979 - val_accuracy: 0.9743\n",
      "Epoch 11/20\n",
      "4800/4800 [==============================] - 5s 1ms/step - loss: 0.0890 - accuracy: 0.9750 - val_loss: 0.1026 - val_accuracy: 0.9742\n",
      "Epoch 12/20\n",
      "4800/4800 [==============================] - 5s 1ms/step - loss: 0.0838 - accuracy: 0.9764 - val_loss: 0.0987 - val_accuracy: 0.9762\n",
      "Epoch 13/20\n",
      "4800/4800 [==============================] - 5s 1ms/step - loss: 0.0813 - accuracy: 0.9774 - val_loss: 0.1061 - val_accuracy: 0.9750\n",
      "Epoch 14/20\n",
      "4800/4800 [==============================] - 5s 1ms/step - loss: 0.0770 - accuracy: 0.9784 - val_loss: 0.1027 - val_accuracy: 0.9753\n",
      "Epoch 15/20\n",
      "4800/4800 [==============================] - 5s 1ms/step - loss: 0.0757 - accuracy: 0.9784 - val_loss: 0.0996 - val_accuracy: 0.9756\n",
      "Epoch 16/20\n",
      "4800/4800 [==============================] - 5s 1ms/step - loss: 0.0732 - accuracy: 0.9795 - val_loss: 0.1068 - val_accuracy: 0.9765\n",
      "Epoch 17/20\n",
      "4800/4800 [==============================] - 5s 1ms/step - loss: 0.0690 - accuracy: 0.9802 - val_loss: 0.1138 - val_accuracy: 0.9753\n",
      "Epoch 18/20\n",
      "4800/4800 [==============================] - 5s 1ms/step - loss: 0.0682 - accuracy: 0.9809 - val_loss: 0.1121 - val_accuracy: 0.9748\n",
      "Epoch 19/20\n",
      "4800/4800 [==============================] - 5s 1ms/step - loss: 0.0634 - accuracy: 0.9827 - val_loss: 0.1153 - val_accuracy: 0.9753\n",
      "Epoch 20/20\n",
      "4800/4800 [==============================] - 5s 1ms/step - loss: 0.0661 - accuracy: 0.9810 - val_loss: 0.1082 - val_accuracy: 0.9756\n"
     ]
    }
   ],
   "source": [
    "_history_3 = model_3.fit(\n",
    "    x_train,\n",
    "    y_train,\n",
    "    epochs = 20,\n",
    "    verbose = 1,\n",
    "    batch_size=10,\n",
    "    validation_split = 0.2\n",
    ")"
   ]
  },
  {
   "cell_type": "code",
   "execution_count": 21,
   "metadata": {},
   "outputs": [
    {
     "name": "stdout",
     "output_type": "stream",
     "text": [
      "313/313 - 0s - loss: 0.1258 - accuracy: 0.9776 - 458ms/epoch - 1ms/step\n"
     ]
    }
   ],
   "source": [
    "[_loss_1, _accuracy_1] = model_1.evaluate(\n",
    "    x_test,\n",
    "    y_test,\n",
    "    verbose = 2\n",
    ")"
   ]
  },
  {
   "cell_type": "code",
   "execution_count": 22,
   "metadata": {},
   "outputs": [
    {
     "name": "stdout",
     "output_type": "stream",
     "text": [
      "313/313 - 0s - loss: 0.1079 - accuracy: 0.9756 - 301ms/epoch - 962us/step\n"
     ]
    }
   ],
   "source": [
    "[_loss_2, _accuracy_2] = model_2.evaluate(\n",
    "    x_test,\n",
    "    y_test,\n",
    "    verbose = 2\n",
    ")"
   ]
  },
  {
   "cell_type": "code",
   "execution_count": 23,
   "metadata": {},
   "outputs": [
    {
     "name": "stdout",
     "output_type": "stream",
     "text": [
      "313/313 - 0s - loss: 0.1143 - accuracy: 0.9769 - 336ms/epoch - 1ms/step\n"
     ]
    }
   ],
   "source": [
    "[_loss_3, _accuracy_3] = model_3.evaluate(\n",
    "    x_test,\n",
    "    y_test,\n",
    "    verbose = 2\n",
    ")"
   ]
  },
  {
   "cell_type": "code",
   "execution_count": 24,
   "metadata": {},
   "outputs": [
    {
     "name": "stdout",
     "output_type": "stream",
     "text": [
      "(0.12584780156612396, 0.9775999784469604)\n",
      "(0.10787530243396759, 0.975600004196167)\n",
      "(0.11427275091409683, 0.9768999814987183)\n"
     ]
    }
   ],
   "source": [
    "print((_loss_1, _accuracy_1), (_loss_2, _accuracy_2), (_loss_3, _accuracy_3), sep='\\n')"
   ]
  },
  {
   "cell_type": "code",
   "execution_count": 25,
   "metadata": {},
   "outputs": [],
   "source": [
    "def plot_loss(history):\n",
    "    plt.plot(history.history['loss'], label='loss')\n",
    "    plt.plot(history.history['val_loss'], label='val_loss')\n",
    "    plt.xlabel('Epoch')\n",
    "    plt.ylabel('Error')\n",
    "    plt.legend()\n",
    "    plt.grid(True)"
   ]
  },
  {
   "cell_type": "code",
   "execution_count": 26,
   "metadata": {},
   "outputs": [
    {
     "data": {
      "image/png": "[encoded data removed]",
      "text/plain": [
       "<Figure size 432x288 with 1 Axes>"
      ]
     },
     "metadata": {
      "needs_background": "light"
     },
     "output_type": "display_data"
    }
   ],
   "source": [
    "plot_loss(_history_1)"
   ]
  },
  {
   "cell_type": "code",
   "execution_count": 27,
   "metadata": {},
   "outputs": [
    {
     "data": {
      "image/png": "[encoded data removed]",
      "text/plain": [
       "<Figure size 432x288 with 1 Axes>"
      ]
     },
     "metadata": {
      "needs_background": "light"
     },
     "output_type": "display_data"
    }
   ],
   "source": [
    "plot_loss(_history_2)"
   ]
  },
  {
   "cell_type": "code",
   "execution_count": 28,
   "metadata": {},
   "outputs": [
    {
     "data": {
      "image/png": "[encoded data removed]",
      "text/plain": [
       "<Figure size 432x288 with 1 Axes>"
      ]
     },
     "metadata": {
      "needs_background": "light"
     },
     "output_type": "display_data"
    }
   ],
   "source": [
    "plot_loss(_history_3)"
   ]
  }
 ],
 "metadata": {
  "interpreter": {
   "hash": "b3ba2566441a7c06988d0923437866b63cedc61552a5af99d1f4fb67d367b25f"
  },
  "kernelspec": {
   "display_name": "Python 3.9.7 ('base')",
   "language": "python",
   "name": "python3"
  },
  "language_info": {
   "codemirror_mode": {
    "name": "ipython",
    "version": 3
   },
   "file_extension": ".py",
   "mimetype": "text/x-python",
   "name": "python",
   "nbconvert_exporter": "python",
   "pygments_lexer": "ipython3",
   "version": "3.9.7"
  },
  "orig_nbformat": 4
 },
 "nbformat": 4,
 "nbformat_minor": 2
}
