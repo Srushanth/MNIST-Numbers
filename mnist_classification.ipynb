{
 "cells": [
  {
   "cell_type": "markdown",
   "metadata": {},
   "source": [
    "1. Load a prebuilt dataset.\n",
    "2. Build a neural network machine learning model that classifies images.\n",
    "3. Train this neural network.\n",
    "4. Evaluate the accuracy of the model."
   ]
  },
  {
   "cell_type": "markdown",
   "metadata": {},
   "source": [
    "# Set up TensorFlow"
   ]
  },
  {
   "cell_type": "code",
   "execution_count": 1,
   "metadata": {},
   "outputs": [],
   "source": [
    "import tensorflow as tf"
   ]
  },
  {
   "cell_type": "code",
   "execution_count": 2,
   "metadata": {},
   "outputs": [
    {
     "data": {
      "text/plain": [
       "'2.7.0'"
      ]
     },
     "execution_count": 2,
     "metadata": {},
     "output_type": "execute_result"
    }
   ],
   "source": [
    "tf.__version__"
   ]
  },
  {
   "cell_type": "markdown",
   "metadata": {},
   "source": [
    "# Load Data"
   ]
  },
  {
   "cell_type": "code",
   "execution_count": 3,
   "metadata": {},
   "outputs": [],
   "source": [
    "mnist = tf.keras.datasets.mnist"
   ]
  },
  {
   "cell_type": "code",
   "execution_count": 4,
   "metadata": {},
   "outputs": [
    {
     "data": {
      "text/plain": [
       "module"
      ]
     },
     "execution_count": 4,
     "metadata": {},
     "output_type": "execute_result"
    }
   ],
   "source": [
    "type(mnist)"
   ]
  },
  {
   "cell_type": "code",
   "execution_count": 5,
   "metadata": {},
   "outputs": [
    {
     "data": {
      "text/plain": [
       "<module 'keras.api._v2.keras.datasets.mnist' from 'C:\\\\ProgramData\\\\Anaconda3\\\\lib\\\\site-packages\\\\keras\\\\api\\\\_v2\\\\keras\\\\datasets\\\\mnist\\\\__init__.py'>"
      ]
     },
     "execution_count": 5,
     "metadata": {},
     "output_type": "execute_result"
    }
   ],
   "source": [
    "mnist"
   ]
  },
  {
   "cell_type": "code",
   "execution_count": 6,
   "metadata": {},
   "outputs": [],
   "source": [
    "(x_train, y_train), (x_test, y_test) = mnist.load_data()"
   ]
  },
  {
   "cell_type": "code",
   "execution_count": 7,
   "metadata": {},
   "outputs": [],
   "source": [
    "x_train, x_test = x_train/255.0, x_test/255.0"
   ]
  },
  {
   "cell_type": "code",
   "execution_count": 8,
   "metadata": {},
   "outputs": [],
   "source": [
    "import numpy as np"
   ]
  },
  {
   "cell_type": "code",
   "execution_count": 9,
   "metadata": {},
   "outputs": [
    {
     "data": {
      "text/plain": [
       "(10000, 28, 28)"
      ]
     },
     "execution_count": 9,
     "metadata": {},
     "output_type": "execute_result"
    }
   ],
   "source": [
    "np.shape(x_test)"
   ]
  },
  {
   "cell_type": "markdown",
   "metadata": {},
   "source": [
    "# Build the model"
   ]
  },
  {
   "cell_type": "code",
   "execution_count": 10,
   "metadata": {},
   "outputs": [],
   "source": [
    "model_1 = tf.keras.models.Sequential([\n",
    "    tf.keras.layers.Flatten(input_shape=(28, 28)),\n",
    "    tf.keras.layers.Dense(128, activation='relu'),\n",
    "    tf.keras.layers.Dropout(0.2),\n",
    "    tf.keras.layers.Dense(10)\n",
    "])"
   ]
  },
  {
   "cell_type": "code",
   "execution_count": 11,
   "metadata": {},
   "outputs": [],
   "source": [
    "model_2 = tf.keras.models.Sequential([\n",
    "    tf.keras.layers.Flatten(input_shape=(28, 28)),\n",
    "    tf.keras.layers.Dense(128, activation='relu'),\n",
    "    tf.keras.layers.Dropout(0.2),\n",
    "    tf.keras.layers.Dense(64, activation='relu'),\n",
    "    tf.keras.layers.Dropout(0.2),\n",
    "    tf.keras.layers.Dense(10)\n",
    "])"
   ]
  },
  {
   "cell_type": "code",
   "execution_count": 12,
   "metadata": {},
   "outputs": [],
   "source": [
    "model_3 = tf.keras.models.Sequential([\n",
    "    tf.keras.layers.Flatten(input_shape=(28, 28)),\n",
    "    tf.keras.layers.Dense(128, activation='relu'),\n",
    "    tf.keras.layers.Dropout(0.2),\n",
    "    tf.keras.layers.Dense(64, activation='relu'),\n",
    "    tf.keras.layers.Dropout(0.2),\n",
    "    tf.keras.layers.Dense(32, activation='relu'),\n",
    "    tf.keras.layers.Dropout(0.2),\n",
    "    tf.keras.layers.Dense(10)\n",
    "])"
   ]
  },
  {
   "cell_type": "code",
   "execution_count": 13,
   "metadata": {},
   "outputs": [],
   "source": [
    "model_1.compile(\n",
    "    optimizer = tf.optimizers.Adam(),\n",
    "    loss = tf.keras.losses.SparseCategoricalCrossentropy(from_logits=True),\n",
    "    metrics = ['accuracy']\n",
    ")"
   ]
  },
  {
   "cell_type": "code",
   "execution_count": 14,
   "metadata": {},
   "outputs": [],
   "source": [
    "model_2.compile(\n",
    "    optimizer = tf.optimizers.Adam(),\n",
    "    loss = tf.keras.losses.SparseCategoricalCrossentropy(from_logits=True),\n",
    "    metrics = ['accuracy']\n",
    ")"
   ]
  },
  {
   "cell_type": "code",
   "execution_count": 15,
   "metadata": {},
   "outputs": [],
   "source": [
    "model_3.compile(\n",
    "    optimizer = tf.optimizers.Adam(),\n",
    "    loss = tf.keras.losses.SparseCategoricalCrossentropy(from_logits=True),\n",
    "    metrics = ['accuracy']\n",
    ")"
   ]
  },
  {
   "cell_type": "code",
   "execution_count": 16,
   "metadata": {},
   "outputs": [
    {
     "name": "stdout",
     "output_type": "stream",
     "text": [
      "Epoch 1/10\n",
      "4800/4800 [==============================] - 5s 1ms/step - loss: 0.2835 - accuracy: 0.9170 - val_loss: 0.1370 - val_accuracy: 0.9614\n",
      "Epoch 2/10\n",
      "4800/4800 [==============================] - 5s 969us/step - loss: 0.1379 - accuracy: 0.9585 - val_loss: 0.1156 - val_accuracy: 0.9657\n",
      "Epoch 3/10\n",
      "4800/4800 [==============================] - 5s 1ms/step - loss: 0.1076 - accuracy: 0.9670 - val_loss: 0.0972 - val_accuracy: 0.9718\n",
      "Epoch 4/10\n",
      "4800/4800 [==============================] - 5s 963us/step - loss: 0.0900 - accuracy: 0.9722 - val_loss: 0.0949 - val_accuracy: 0.9729\n",
      "Epoch 5/10\n",
      "4800/4800 [==============================] - 5s 956us/step - loss: 0.0763 - accuracy: 0.9756 - val_loss: 0.0985 - val_accuracy: 0.9711\n",
      "Epoch 6/10\n",
      "4800/4800 [==============================] - 5s 962us/step - loss: 0.0661 - accuracy: 0.9783 - val_loss: 0.0896 - val_accuracy: 0.9757\n",
      "Epoch 7/10\n",
      "4800/4800 [==============================] - 5s 963us/step - loss: 0.0604 - accuracy: 0.9800 - val_loss: 0.0847 - val_accuracy: 0.9769\n",
      "Epoch 8/10\n",
      "4800/4800 [==============================] - 5s 953us/step - loss: 0.0550 - accuracy: 0.9820 - val_loss: 0.0888 - val_accuracy: 0.9776\n",
      "Epoch 9/10\n",
      "4800/4800 [==============================] - 5s 967us/step - loss: 0.0500 - accuracy: 0.9833 - val_loss: 0.0903 - val_accuracy: 0.9764\n",
      "Epoch 10/10\n",
      "4800/4800 [==============================] - 5s 1ms/step - loss: 0.0457 - accuracy: 0.9847 - val_loss: 0.0930 - val_accuracy: 0.9763\n"
     ]
    }
   ],
   "source": [
    "_history_1 = model_1.fit(\n",
    "    x_train,\n",
    "    y_train,\n",
    "    epochs = 10,\n",
    "    verbose = 1,\n",
    "    batch_size=10,\n",
    "    validation_split = 0.2\n",
    ")"
   ]
  },
  {
   "cell_type": "code",
   "execution_count": 17,
   "metadata": {},
   "outputs": [
    {
     "name": "stdout",
     "output_type": "stream",
     "text": [
      "Epoch 1/10\n",
      "4800/4800 [==============================] - 5s 1ms/step - loss: 0.3248 - accuracy: 0.9028 - val_loss: 0.1385 - val_accuracy: 0.9578\n",
      "Epoch 2/10\n",
      "4800/4800 [==============================] - 5s 1ms/step - loss: 0.1672 - accuracy: 0.9496 - val_loss: 0.1160 - val_accuracy: 0.9657\n",
      "Epoch 3/10\n",
      "4800/4800 [==============================] - 5s 1ms/step - loss: 0.1361 - accuracy: 0.9595 - val_loss: 0.1023 - val_accuracy: 0.9703\n",
      "Epoch 4/10\n",
      "4800/4800 [==============================] - 5s 1ms/step - loss: 0.1158 - accuracy: 0.9656 - val_loss: 0.1048 - val_accuracy: 0.9708\n",
      "Epoch 5/10\n",
      "4800/4800 [==============================] - 5s 1ms/step - loss: 0.1040 - accuracy: 0.9685 - val_loss: 0.0958 - val_accuracy: 0.9740\n",
      "Epoch 6/10\n",
      "4800/4800 [==============================] - 5s 1ms/step - loss: 0.0963 - accuracy: 0.9711 - val_loss: 0.0987 - val_accuracy: 0.9715\n",
      "Epoch 7/10\n",
      "4800/4800 [==============================] - 5s 1ms/step - loss: 0.0860 - accuracy: 0.9729 - val_loss: 0.1021 - val_accuracy: 0.9707\n",
      "Epoch 8/10\n",
      "4800/4800 [==============================] - 5s 1ms/step - loss: 0.0820 - accuracy: 0.9741 - val_loss: 0.1020 - val_accuracy: 0.9738\n",
      "Epoch 9/10\n",
      "4800/4800 [==============================] - 5s 1ms/step - loss: 0.0760 - accuracy: 0.9773 - val_loss: 0.0978 - val_accuracy: 0.9759\n",
      "Epoch 10/10\n",
      "4800/4800 [==============================] - 5s 1ms/step - loss: 0.0757 - accuracy: 0.9763 - val_loss: 0.0968 - val_accuracy: 0.9756\n"
     ]
    }
   ],
   "source": [
    "_history_2 = model_2.fit(\n",
    "    x_train,\n",
    "    y_train,\n",
    "    epochs = 10,\n",
    "    verbose = 1,\n",
    "    batch_size=10,\n",
    "    validation_split = 0.2\n",
    ")"
   ]
  },
  {
   "cell_type": "code",
   "execution_count": 18,
   "metadata": {},
   "outputs": [
    {
     "name": "stdout",
     "output_type": "stream",
     "text": [
      "Epoch 1/10\n",
      "4800/4800 [==============================] - 5s 1ms/step - loss: 0.4172 - accuracy: 0.8757 - val_loss: 0.1553 - val_accuracy: 0.9567\n",
      "Epoch 2/10\n",
      "4800/4800 [==============================] - 5s 1ms/step - loss: 0.2154 - accuracy: 0.9417 - val_loss: 0.1504 - val_accuracy: 0.9576\n",
      "Epoch 3/10\n",
      "4800/4800 [==============================] - 5s 1ms/step - loss: 0.1671 - accuracy: 0.9539 - val_loss: 0.1219 - val_accuracy: 0.9666\n",
      "Epoch 4/10\n",
      "4800/4800 [==============================] - 5s 1ms/step - loss: 0.1471 - accuracy: 0.9591 - val_loss: 0.1115 - val_accuracy: 0.9718\n",
      "Epoch 5/10\n",
      "4800/4800 [==============================] - 5s 1ms/step - loss: 0.1330 - accuracy: 0.9635 - val_loss: 0.1067 - val_accuracy: 0.9715\n",
      "Epoch 6/10\n",
      "4800/4800 [==============================] - 5s 1ms/step - loss: 0.1151 - accuracy: 0.9691 - val_loss: 0.1176 - val_accuracy: 0.9722\n",
      "Epoch 7/10\n",
      "4800/4800 [==============================] - 5s 1ms/step - loss: 0.1108 - accuracy: 0.9690 - val_loss: 0.1073 - val_accuracy: 0.9745\n",
      "Epoch 8/10\n",
      "4800/4800 [==============================] - 5s 1ms/step - loss: 0.1030 - accuracy: 0.9715 - val_loss: 0.1077 - val_accuracy: 0.9739\n",
      "Epoch 9/10\n",
      "4800/4800 [==============================] - 5s 1ms/step - loss: 0.0993 - accuracy: 0.9722 - val_loss: 0.1072 - val_accuracy: 0.9730\n",
      "Epoch 10/10\n",
      "4800/4800 [==============================] - 5s 1ms/step - loss: 0.0879 - accuracy: 0.9738 - val_loss: 0.1089 - val_accuracy: 0.9738\n"
     ]
    }
   ],
   "source": [
    "_history_3 = model_3.fit(\n",
    "    x_train,\n",
    "    y_train,\n",
    "    epochs = 10,\n",
    "    verbose = 1,\n",
    "    batch_size=10,\n",
    "    validation_split = 0.2\n",
    ")"
   ]
  },
  {
   "cell_type": "code",
   "execution_count": 19,
   "metadata": {},
   "outputs": [
    {
     "name": "stdout",
     "output_type": "stream",
     "text": [
      "313/313 - 0s - loss: 0.0830 - accuracy: 0.9774 - 328ms/epoch - 1ms/step\n"
     ]
    }
   ],
   "source": [
    "[_loss_1, _accuracy_1] = model_1.evaluate(\n",
    "    x_test,\n",
    "    y_test,\n",
    "    verbose = 2\n",
    ")"
   ]
  },
  {
   "cell_type": "code",
   "execution_count": 20,
   "metadata": {},
   "outputs": [
    {
     "name": "stdout",
     "output_type": "stream",
     "text": [
      "313/313 - 0s - loss: 0.0817 - accuracy: 0.9769 - 315ms/epoch - 1ms/step\n"
     ]
    }
   ],
   "source": [
    "[_loss_2, _accuracy_2] = model_2.evaluate(\n",
    "    x_test,\n",
    "    y_test,\n",
    "    verbose = 2\n",
    ")"
   ]
  },
  {
   "cell_type": "code",
   "execution_count": 21,
   "metadata": {},
   "outputs": [
    {
     "name": "stdout",
     "output_type": "stream",
     "text": [
      "313/313 - 0s - loss: 0.0972 - accuracy: 0.9759 - 326ms/epoch - 1ms/step\n"
     ]
    }
   ],
   "source": [
    "[_loss_3, _accuracy_3] = model_3.evaluate(\n",
    "    x_test,\n",
    "    y_test,\n",
    "    verbose = 2\n",
    ")"
   ]
  },
  {
   "cell_type": "code",
   "execution_count": 22,
   "metadata": {},
   "outputs": [
    {
     "name": "stdout",
     "output_type": "stream",
     "text": [
      "(0.08302100002765656, 0.977400004863739)\n",
      "(0.08168983459472656, 0.9768999814987183)\n",
      "(0.09719137102365494, 0.9758999943733215)\n"
     ]
    }
   ],
   "source": [
    "print((_loss_1, _accuracy_1), (_loss_2, _accuracy_2), (_loss_3, _accuracy_3), sep='\\n')"
   ]
  },
  {
   "cell_type": "code",
   "execution_count": 28,
   "metadata": {},
   "outputs": [],
   "source": [
    "import matplotlib.pylab as plt"
   ]
  },
  {
   "cell_type": "code",
   "execution_count": 24,
   "metadata": {},
   "outputs": [],
   "source": [
    "def plot_loss(history):\n",
    "    plt.plot(history.history['loss'], label='loss')\n",
    "    plt.plot(history.history['val_loss'], label='val_loss')\n",
    "    plt.xlabel('Epoch')\n",
    "    plt.ylabel('Error')\n",
    "    plt.legend()\n",
    "    plt.grid(True)"
   ]
  },
  {
   "cell_type": "code",
   "execution_count": 25,
   "metadata": {},
   "outputs": [
    {
     "data": {
      "image/png": "[encoded data removed]",
      "text/plain": [
       "<Figure size 432x288 with 1 Axes>"
      ]
     },
     "metadata": {
      "needs_background": "light"
     },
     "output_type": "display_data"
    }
   ],
   "source": [
    "plot_loss(_history_1)"
   ]
  },
  {
   "cell_type": "code",
   "execution_count": 26,
   "metadata": {},
   "outputs": [
    {
     "data": {
      "image/png": "[encoded data removed]",
      "text/plain": [
       "<Figure size 432x288 with 1 Axes>"
      ]
     },
     "metadata": {
      "needs_background": "light"
     },
     "output_type": "display_data"
    }
   ],
   "source": [
    "plot_loss(_history_2)"
   ]
  },
  {
   "cell_type": "code",
   "execution_count": 27,
   "metadata": {},
   "outputs": [
    {
     "data": {
      "image/png": "[encoded data removed]",
      "text/plain": [
       "<Figure size 432x288 with 1 Axes>"
      ]
     },
     "metadata": {
      "needs_background": "light"
     },
     "output_type": "display_data"
    }
   ],
   "source": [
    "plot_loss(_history_3)"
   ]
  },
  {
   "cell_type": "code",
   "execution_count": null,
   "metadata": {},
   "outputs": [],
   "source": []
  }
 ],
 "metadata": {
  "interpreter": {
   "hash": "b3ba2566441a7c06988d0923437866b63cedc61552a5af99d1f4fb67d367b25f"
  },
  "kernelspec": {
   "display_name": "Python 3.9.7 ('base')",
   "language": "python",
   "name": "python3"
  },
  "language_info": {
   "codemirror_mode": {
    "name": "ipython",
    "version": 3
   },
   "file_extension": ".py",
   "mimetype": "text/x-python",
   "name": "python",
   "nbconvert_exporter": "python",
   "pygments_lexer": "ipython3",
   "version": "3.9.7"
  },
  "orig_nbformat": 4
 },
 "nbformat": 4,
 "nbformat_minor": 2
}
